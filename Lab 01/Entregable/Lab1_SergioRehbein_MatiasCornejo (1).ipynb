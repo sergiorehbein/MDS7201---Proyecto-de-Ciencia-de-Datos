{
  "cells": [
    {
      "cell_type": "markdown",
      "metadata": {
        "id": "J4_IcuuKZj9Y",
        "cell_id": "097fce6dce21405c911254a775ae3d26",
        "deepnote_cell_type": "markdown"
      },
      "source": [
        "<h1><center>Laboratorio 1: Git 👾</center></h1>\n",
        "\n",
        "<center><strong>MDS7202: Laboratorio de Programación Científica para Ciencia de Datos - Otoño 2024</strong></center>"
      ]
    },
    {
      "cell_type": "markdown",
      "metadata": {
        "id": "AEXIACc7aADv",
        "cell_id": "9e8e8f2ae34e461da4f44508a96d2cf4",
        "deepnote_cell_type": "markdown"
      },
      "source": [
        "### Cuerpo Docente:\n",
        "\n",
        "- Profesores: Ignacio Meza, Sebastián Tinoco\n",
        "- Auxiliar: Catherine Benavides\n",
        "- Ayudante: Nicolás Ojeda, Eduardo Moya"
      ]
    },
    {
      "cell_type": "markdown",
      "metadata": {
        "id": "0HgMMyoCaG8X",
        "cell_id": "3e5b48c23e1b48f6a64de41899166179",
        "deepnote_cell_type": "markdown"
      },
      "source": [
        "### Equipo: **SUPER IMPORTANTE - notebooks sin nombre no serán revisados**\n",
        "\n",
        "- Nombre de alumno 1: Sergio Rehbein\n",
        "- Nombre de alumno 2: Matías Cornejo"
      ]
    },
    {
      "cell_type": "markdown",
      "metadata": {
        "id": "fz77X6glaK6y",
        "cell_id": "1db7c82b68614d19b112ba3b0d0abe4d",
        "deepnote_cell_type": "markdown"
      },
      "source": [
        "\\### **Link de repositorio de GitHub Matias:** https://github.com/s-kill/MDS7202"
      ]
    },
    {
      "cell_type": "markdown",
      "metadata": {
        "id": "rRwqaxIZaNx3",
        "cell_id": "bc3dac65089d4ae6a43c079547dee179",
        "deepnote_cell_type": "markdown"
      },
      "source": [
        "## Reglas:\n",
        "\n",
        "- **Grupos de 2 personas**\n",
        "- Fecha de entrega: 7 días desde la publicación, 3 días de atraso con 1 punto de descuento c/u.\n",
        "- Instrucciones del lab el viernes a las 16:15 en formato online. Asistencia no es obligatoria.\n",
        "- <u>Prohibidas las copias</u>. Cualquier intento de copia será debidamente penalizado con el reglamento de la escuela.\n",
        "- Tienen que subir el laboratorio a u-cursos Y a su repositorio de github. Labs que no estén en u-cursos no serán revisados. Recuerden que el repositorio también tiene nota.\n",
        "- Cualquier duda fuera del horario de clases al foro. Mensajes al equipo docente serán respondidos por este medio.\n",
        "- Pueden usar cualquer material del curso que estimen conveniente."
      ]
    },
    {
      "cell_type": "markdown",
      "metadata": {
        "id": "bmToL27JaSrf",
        "cell_id": "05e4729411a24153837fd13b7f198bd9",
        "deepnote_cell_type": "markdown"
      },
      "source": [
        "## Objetivos del lab:\n",
        "\n",
        "\n",
        "- Conocer los elementos básicos que conformar `Git`\n",
        "- Clonar repositorios\n",
        "- Identificar ramas de un repositorio\n",
        "- Reconocer y solucionar problemas entre ramas\n",
        "- Subir cambios a un repositorio"
      ]
    },
    {
      "cell_type": "markdown",
      "metadata": {
        "id": "bvnPCvrVbJLK",
        "cell_id": "5ebae9d601bd4d508349ab55297e9f82",
        "deepnote_cell_type": "markdown"
      },
      "source": [
        "## Parte 1: Conocimiento Teórico (2.5 pts)\n",
        "\n",
        "<p align=\"center\">\n",
        "  <img src=\"https://cdn.thedesigninspiration.com/wp-content/uploads/sites/3/2019/04/macintosh-hdusersbrittanyloefflerdownloadsanig-1.gif\" width=\"350\">\n",
        "</p>"
      ]
    },
    {
      "cell_type": "markdown",
      "metadata": {
        "id": "JHl-24XnbNLF",
        "cell_id": "627494dba4f84520b3ee8b9cbf58ee79",
        "deepnote_cell_type": "markdown"
      },
      "source": [
        "Responda las siguientes preguntas (0.2 pts c/u):\n",
        "\n",
        "1. ¿Qué es `Git` y cómo se relaciona con el control de versiones?\n",
        "\n",
        "2. Nombre y explique 3 diferencias entre `Git` y `Github`.\n",
        "\n",
        "3. ¿Qué es un `hash` y cómo se representa en un `commit`? De un ejemplo.\n",
        "\n",
        "4. ¿Que elementos componen a la estructura de datos de `Git`?\n",
        "\n",
        "5. ¿Que comandos de `Git` sirven para crear un repositorio y hacer seguimiento a cambios en los archivos?"
      ]
    },
    {
      "cell_type": "markdown",
      "metadata": {
        "id": "2tXCSkf0caG8",
        "cell_id": "6d06c40f429044a298b27c666f51f46f",
        "deepnote_cell_type": "markdown"
      },
      "source": [
        "<code>Escriba sus respuestas acá:</code>\n",
        "\n",
        "1. Git es un sistema de control de versiones distribuido, lo que significa que un clon local del proyecto es un repositorio de control de versiones completo. Estos repositorios locales plenamente funcionales permiten trabajar sin conexión o de forma remota con facilidad.\n",
        "\n",
        "2.\n",
        "\n",
        "  1era Diferencia: **Git** es un sistema de control de versiones distribuido utilizado para rastrear cambios en archivos y coordinar el trabajo en proyectos de software localmente en la máquina de un desarrollador. En cambio **GitHub** es una plataforma en línea que permite alojar, colaborar y compartir proyectos de software utilizando Git, proporcionando características adicionales como seguimiento de problemas, solicitudes de extracción, etc.\n",
        "\n",
        "  2da Diferencia: **Git** Es un software de control de versiones de código abierto que debe ser instalado en la máquina del usuario.\n",
        "  GitHub es un servicio en línea que aloja repositorios Git, por lo que no se requiere instalación y se puede acceder a él a través de un navegador web.\n",
        "\n",
        "  3era Diferencia: **Git** es compatible con múltiples sistemas operativos y se puede utilizar localmente en Windows, macOS y Linux.\n",
        "  **GitHub** es una plataforma basada en la nube que se accede a través de un navegador web y es independiente del sistema operativo.\n",
        "\n",
        "3. Un hash en Git es n número único que identifica un commit. El hash se genera automáticamente cuando se hace un commit y sirve para identificar ese commit de manera única dentro del repositorio Git.\n",
        "\n",
        "4. Git tiene tres estados principales en los que se pueden encontrar tus archivos: confirmado (committed), modificado (modified), y preparado (staged).\n",
        "\n",
        "5. Para crear un nuevo repositorio, se utiliza el comando git init.\n",
        "\n",
        "  El comando git status mostrará los diferentes estados de los archivos en el directorio de trabajo y área de ensayo. Qué archivos están modificados y sin seguimiento y cuáles con seguimiento pero no confirmados aún.\n"
      ]
    },
    {
      "cell_type": "markdown",
      "metadata": {
        "id": "MACccbP4gU43",
        "cell_id": "ec9855406e324cc98b59e33500faea84",
        "deepnote_cell_type": "markdown"
      },
      "source": [
        "Responda si las siguientes afirmaciones son Verdaderas (V) o Falsas (F). Justifique en **cualquiera** de los casos (0.2 pts c/u):\n",
        "\n",
        "\n",
        "6. `Git` siempre resuelve automáticamente los problemas de lineas al hacer merge entre diferentes ramas.\n",
        "7. Ejecutar `git pull` sobre un repositorio es equivalente a ejecutar `git clone`.\n",
        "8. `git status` genera los mismos resultados que `git log`.\n",
        "9. En `Git` es posible deshacer cambios y volver a versiones anteriores del código.\n",
        "10. El comando `git commit` se utiliza para enviar cambios al repositorio remoto."
      ]
    },
    {
      "cell_type": "markdown",
      "metadata": {
        "id": "DFnmCToOgeM3",
        "cell_id": "7e6a5a6e15b045cc9d104cf017825f1a",
        "deepnote_cell_type": "markdown"
      },
      "source": [
        "<code>Escriba sus respuestas acá:</code>\n",
        "\n",
        "6. Falso: Cuando Git detecta cambios en áreas conflictivas de los archivos que están siendo fusionados desde diferentes ramas, se produce lo que se conoce como un \"conflicto de fusión\". En este caso, Git no puede determinar automáticamente cuál es la versión correcta y necesita la intervención del usuario para resolver el conflicto.\n",
        "\n",
        "7. Falso: **git pull** y **git clone** son comandos diferentes en Git, git clone se utiliza para clonar un repositorio remoto en un nuevo directorio local, mientras tanto git pull es utilizado para actualizar el repositorio local con los cambios del repositorio remoto, recuperando y fusionando los cambios desde el repositorio remoto a la rama local actual.\n",
        "\n",
        "8. Falso: Estos son diferentes dado que **git status** muestra el estado actual del repositorio local, incluidos los archivos modificados, los archivos en el área de preparación y los archivos no seguimientos. En cambio **git log** muestra el historial de commits en la rama actual, incluyendo información sobre los autores, las fechas y los mensajes de commit.\n",
        "\n",
        "9. Verdadero: Existe comandos y técnicas, como git reset, git checkout, git revert que ayudan a deshacer cambios y volver a versiones anteriores.\n",
        "\n",
        "10. Falso: **git commit** es para confirmar los cambios en el repositorio local, no para enviar cambios al repositorio remoto. Para enviar cambios al repositorio remoto, se utiliza el comando git push.\n",
        "\n"
      ]
    },
    {
      "cell_type": "markdown",
      "metadata": {
        "cell_id": "54317cad024744ebaf4938df55ba3b95",
        "deepnote_cell_type": "markdown",
        "id": "LYq55sI2Rjf0"
      },
      "source": [
        "Por último, investigue y comente para qué sirven los siguientes comandos:\n",
        "\n",
        "11. `git stash` (0.25 puntos)\n",
        "12. `git reset`. ¿Cuál es la diferencia de este comando con `git revert`?. (0.25 puntos)"
      ]
    },
    {
      "cell_type": "markdown",
      "source": [
        "<code>Escriba sus respuestas acá:</code>\n",
        "\n",
        "11. El comando git stash almacena temporalmente (o guarda en un stash) los cambios que hayas efectuado en el código en el que estás trabajando para que puedas trabajar en otra cosa y, más tarde, regresar y volver a aplicar los cambios más tarde. Un ejemplo es que surge una emergencia y se necesita arreglar un error en la rama main del proyecto. En este caso, se puede utilizar git stash para guardar temporalmente tus cambios sin confirmar y trabajar en la corrección del error en la rama main. Una vez que hayas solucionado el error y confirmado los cambios en main, se puede regresar a la rama de trabajo y aplicar los cambios guardados con git stash apply.\n",
        "\n",
        "\n",
        "12. **git reset**: se utiliza para deshacer cambios en el repositorio local moviendo la HEAD (puntero a la rama actual) a un commit específico.\n",
        "\n",
        "  **git revert**: se utiliza para deshacer un commit específico creando un nuevo commit que revierte los cambios introducidos por el commit especificado.\n",
        "\n",
        "  La diferencia de git reset, git revert no elimina el historial de commits, sino que agrega un nuevo commit que deshace los cambios.\n",
        "\n",
        "  Por ejemplo, si se tiene un commit que introdujo un error yse quiere deshacer los cambios introducidos por ese commit sin eliminar el commit en sí mismo, puedes utilizar git revert para crear un nuevo commit que deshaga esos cambios.\n"
      ],
      "metadata": {
        "id": "HhioYwTPXAgg"
      }
    },
    {
      "cell_type": "markdown",
      "metadata": {
        "id": "i7Em9JkbbRLo",
        "cell_id": "3e4d8b9974e4426ca38fd20f4b835a55",
        "deepnote_cell_type": "markdown"
      },
      "source": [
        "## Parte 2: Creando una presentación personal (1.5 pts)\n",
        "\n",
        "<p align=\"center\">\n",
        "  <img src=\"https://media.tenor.com/arqlNu8gyJYAAAAC/cat-cat-jumping.gif\" width=\"150\">\n",
        "</p>\n",
        "\n"
      ]
    },
    {
      "cell_type": "markdown",
      "metadata": {
        "id": "XWIHfyrlbYOJ",
        "cell_id": "988648005dba4b9782c6625dfe6ae4ef",
        "deepnote_cell_type": "markdown"
      },
      "source": [
        "Para empezar a \"*soltar las manos*\" con `Git`, se les encomienda crear un repositorio con una presentación personal. El repositorio debe contener un breve resumen de quienes son ustedes, sus gustos, experiencias, y cualquier otro detalle interesante que ustedes consideren relevante.\n",
        "\n",
        "Para realizar esto, deben seguir los siguientes pasos:\n",
        "\n",
        "1. Contar con una cuenta de github (1 por persona)\n",
        "2. Crear un repositorio con su nombre de usuario\n",
        "3. Vincular el repositorio a su ambiente local ¿Qué comando(s) me permiten hacer esto?\n",
        "4. Crear un archivo `readme.md` con la información que ustedes deseen compartir.\n",
        "5. Realizar `push` con los cambios generados\n",
        "\n",
        "A modo de ejemplo, pueden guiarse por esta *suculenta* [presentación](https://github.com/Mezosky)\n",
        "\n",
        "**Nota: Deben trabajar todos estos puntos desde su ambiente local**\n",
        "\n",
        "*Hint: Una buena opción es usar templates de presentación personal que encuentren en Google, como los que ofrece este [sitio](https://durgeshsamariya.github.io/awesome-github-profile-readme-templates/#/)*.\n",
        "\n",
        "**Entregable:**\n",
        "\n",
        "Enlace al repositorio con la presentación personal.\n",
        "\n",
        "IMPORTANTE: DEBEN ADJUNTAR UN ENLACE POR PERSONA"
      ]
    },
    {
      "cell_type": "markdown",
      "metadata": {
        "id": "IIkWyl9tf0Sg",
        "cell_id": "081b38d55dc54282bc8e3cd300ce9d3e",
        "deepnote_cell_type": "markdown"
      },
      "source": [
        "<code>Link Presentacion 1:</code> https://github.com/s-kill/Matias\n",
        "\n",
        "<code>Link Presentacion 2:</code> https://github.com/sergiorehbein"
      ]
    },
    {
      "cell_type": "markdown",
      "metadata": {
        "id": "CAzXOwvDY-IG",
        "cell_id": "0481a05d2d1a46928f6cfb7762720980",
        "deepnote_cell_type": "markdown"
      },
      "source": [
        "## Parte 3: Trabajando sobre un repositorio externo (2 pts)\n",
        "\n",
        "<p align=\"center\">\n",
        "  <img src=\"https://media.tenor.com/YXL-0SK15j4AAAAC/dance-animals.gif\" width=\"300\">\n",
        "</p>\n",
        "\n",
        "Tras muchos dolores de cabeza, un grupo de entusiastas académicos decidieron aprender sobre `Git` y así trabajar colaborativamente de forma más ordenada y eficiente. Después de una infinidad de intentos y aprender de sus errores \"*a la mala*\", los académicos lograron levantar un [repositorio](https://github.com/MDS7202/lab1) en `Github`. Usando el repositorio de los académicos, responda las siguientes preguntas (**incluya también los comandos en `Git` ocupados**):\n"
      ]
    },
    {
      "cell_type": "markdown",
      "metadata": {
        "id": "BFRnAw0rfguR",
        "cell_id": "bcef73b2e8604579bde90ed6622abfe9",
        "deepnote_cell_type": "markdown"
      },
      "source": [
        "1. Clone el repositorio a su ambiente local. (0.25 pts)"
      ]
    },
    {
      "cell_type": "markdown",
      "metadata": {
        "id": "KXro32yBeilN",
        "cell_id": "5d126ac3819c44479af94d3895bc4c97",
        "deepnote_cell_type": "markdown"
      },
      "source": [
        "<code>Escriba sus respuestas acá:</code> git clone https://github.com/MDS7202/lab1.git"
      ]
    },
    {
      "cell_type": "markdown",
      "metadata": {
        "cell_id": "e215e4e25b2440f09ac273ba63603986",
        "deepnote_cell_type": "markdown",
        "id": "8QB-GKmQRjf1"
      },
      "source": [
        "2. Descomprima los archivos subidos con la tarea en U-cursos en la carpeta recién clonada de github. Una vez realizado esto, cree un archivo `.gitignore` con el cual omita la carpeta `videos` y los archivos con la extensión `.txt` exceptuando el archivo `171.txt` de la carpeta `texts`. (0.25 pts)"
      ]
    },
    {
      "cell_type": "markdown",
      "metadata": {
        "cell_id": "186233b44d004e3bbd86262d010188b5",
        "deepnote_cell_type": "markdown",
        "id": "7VJ8IIYpRjf1"
      },
      "source": [
        "<code>Para esta pregunta usted deberá adjuntar el .gitignore creado en su repo.</code>"
      ]
    },
    {
      "cell_type": "markdown",
      "metadata": {
        "id": "q2qmiDyjt2M_",
        "cell_id": "1de150590a41484a988b8e46616a2324",
        "deepnote_cell_type": "markdown"
      },
      "source": [
        "3. Inspeccione brevemente el repositorio: ¿Cual es el objetivo del proyecto? Explique brevemente la estructura del proyecto, asi como también cada elemento que lo conforma. (0.25 pts)"
      ]
    },
    {
      "cell_type": "markdown",
      "metadata": {
        "id": "aBHpR8VTftkT",
        "cell_id": "082ca01c865e48e28352b280400c47b6",
        "deepnote_cell_type": "markdown"
      },
      "source": [
        "<code>Escriba sus respuestas acá:</code> Con respecto al repositorio, es un proyecto hecho en python que tiene como objetivo emular el sonido que hace un animal en particular. Tiene una estructura modular, donde el archivo main.py solicita al usuario que ingrese el nombre de un animal, y mediante una función establecida en animales.py, el programa muestra mediante texto el ruido que hace el anima entregado por el usuario.\n",
        "\n",
        "Con respecto a los archivos descomprimidos en la carpeta, la carpeta texts tienen la transcipción de la pelicula Shrek 2 en inglés. Mientras que la carpeta videos tiene un video de una escena de la pelicula Akira version 31 minutos."
      ]
    },
    {
      "cell_type": "markdown",
      "metadata": {
        "id": "XFwqcpLZfylf",
        "cell_id": "3aab4a3ee0c246e1be955680ad653fb8",
        "deepnote_cell_type": "markdown"
      },
      "source": [
        "4. Identifique los últimos cambios al repositorio, reconociendo las principales ramas de trabajo. ¿Son informativos los `commit` realizados? (0.25 pts)\n",
        "*Hint: Se recomienda usar los argumentos `all`, `graph` y `decorate`*"
      ]
    },
    {
      "cell_type": "markdown",
      "metadata": {
        "id": "cmWfXBkOhog0",
        "cell_id": "0fab79a360ac4c6a9ca0ab884f85c7e1",
        "deepnote_cell_type": "markdown"
      },
      "source": [
        "<code>Escriba sus respuestas acá:</code>Una vez creado el repositorio, se generaron 3 cambios, cada uno por un autor distinto, en primer lugar el autor 'seba' agrega una función, luego el autor 'mezosky' separa el proyecto en modulos mientras que paralelamente el autor 'pablo' hace algunos arreglos. Con respecto a los commit generados, entregan información que, si se mezcla con la información del proyecto, se podría deducir que se hace en cada uno de estos pasos, pero de manera aislada no se puede entender los cambios. Por ejemplo, Seba indica en su commit que 'se agrega función', pero no hace referencia a que funcion agrega ni que hace esta función. El commit de Mezosky es más informativo y autoexplicativo entendiendo el contexto. Finalmente el commit realizado por Pablo indica que se arregló un error en las condiciones del código, pero no se indica que tipo de error arregla."
      ]
    },
    {
      "cell_type": "markdown",
      "metadata": {
        "id": "Vqbj9HdXrUnN",
        "cell_id": "d07b24d21f2343fb9a7e6a5db74e98c3",
        "deepnote_cell_type": "markdown"
      },
      "source": [
        "5. Uno de los académicos se da cuenta que la rama principal de trabajo no se ejecuta correctamente para todos los argumentos. Señale y explique el error en el código e identifique a la persona que lo cometió usando `git blame` (0.25 pts)\n",
        "\n",
        "*Hint: Le puede ser útil esta [documentación](https://www.atlassian.com/es/git/tutorials/inspecting-a-repository/git-blame).*"
      ]
    },
    {
      "cell_type": "markdown",
      "metadata": {
        "id": "5ajhV2Iar3tV",
        "cell_id": "bc5b0f9c639643108f8e66687b721732",
        "deepnote_cell_type": "markdown"
      },
      "source": [
        "<code>Escriba sus respuestas acá:</code> Si se utiliza git blame main.py y git blame animales.py en la rama main, se indica que Mezosky modifica main.py en las lineas 2-5 y modifica/crea todo el archivo animales.py, donde se encuentra la funcion principal que no se ejecuta correctamente. Desde esto ultimo se podría pensar que Mezosky es la persona que comete el error, pero como se mencionó anteriormente, Seba fue el que crea inicialmente el proyecto en python, y luego Mezosky separa el proyecto en modulos. Si se utiliza git blame en la rama donde Seba agrega la función, se observa que el fue el encargado de realizar todo el archivo main.py antes de ser separado.\n"
      ]
    },
    {
      "cell_type": "markdown",
      "metadata": {
        "id": "m8J3uE7MhqTA",
        "cell_id": "f3f4e78e6d9145ebbb120c0a2e4aade6",
        "deepnote_cell_type": "markdown"
      },
      "source": [
        "6. Busque los siguientes `commit`:\n",
        "\n",
        "- `c8b1a62d7299552b0654f930d695b33109214111`\n",
        "- `362fe21ee44f53ee944cee4ba484600308f83d78`\n",
        "- `25543a3baf77292baf849726784ca005473acab1`\n",
        "\n",
        "¿Qué diferencias existen entre cada uno? (0.25 pts)"
      ]
    },
    {
      "cell_type": "markdown",
      "metadata": {
        "id": "sNHnZsgIitGh",
        "cell_id": "696ed361ac0c41c8a214cfad9dcb39e6",
        "deepnote_cell_type": "markdown"
      },
      "source": [
        "<code>Escriba sus respuestas acá:</code>\n",
        "\n",
        "*   c8b1a62d7299552b0654f930d695b33109214111: Este hash hace referencia al commit realizado por Seba, acá se agrega la función main.py, la cual contiene la función que diferencia animales y el modulo main.\n",
        "*   362fe21ee44f53ee944cee4ba484600308f83d78: Este es el commit realizado por Mezosky, modificación directa al commit anterior. Acá se separa la función main.py, creandose el modulo animales.py, el cual contiene la funcion que diferencia aniamles.\n",
        "*   25543a3baf77292baf849726784ca005473acab1: Commit realizado por Pablo, también modifica directamente el commit de Seba. Se corrige un error en la función animales dentro de main.py.\n",
        "\n"
      ]
    },
    {
      "cell_type": "markdown",
      "metadata": {
        "id": "WQIPbfNCgpxC",
        "cell_id": "b4e18f8ce94c430f85915c4e2732d05b",
        "deepnote_cell_type": "markdown"
      },
      "source": [
        "7. Realice una `merge` de la rama `fix-ifs` con la rama `main` y describa lo que ocurre. ¿Qué parte del código podría estar ocasionando esto? (0.25 pts)"
      ]
    },
    {
      "cell_type": "markdown",
      "metadata": {
        "id": "ypH_6lL5ioZz",
        "cell_id": "36da6a0d4f4a427bbccac09e2ae965fd",
        "deepnote_cell_type": "markdown"
      },
      "source": [
        "<code>Escriba sus respuestas acá:</code> Inicialmente git arroja \"Your local changes to the following files would be overwritten by merge:\n",
        "  .gitignore Lab1_enunciado.ipynb texts/171.txt\" dado que no se ha realizado un commit post modificaciones realizadas en p3.1 y p3.2. Esto se arregla realizando el commit a la rama main.\n",
        "\n",
        "Por otro lado, la rama main hace referencia al commit realizado por mezosky, donde ya se separó la función animales del archivo main.py, mientras que fix-ifs tiene la corrección de la funcion aniamles, pero esta se encuentra dentro del archivo main. Al intentar realizar el merge, git entrega el siguiente error:\n",
        "\n",
        "Auto-merging main.py\n",
        "\n",
        "*   CONFLICT (content): Merge conflict in main.py\n",
        "*   Automatic merge failed; fix conflicts and then commit the result.\n",
        "\n",
        "Esto se puede solucionar de al menos dos formas; Primero, utilizar una herramienta de merge como mergetool o VSC. Segundo, crear una rama nueva y resolver el problema de manera manual.\n",
        "\n",
        "\n"
      ]
    },
    {
      "cell_type": "markdown",
      "metadata": {
        "id": "GYfODCjeivkU",
        "cell_id": "09787ab449c543479e5cc54c2a3b6c19",
        "deepnote_cell_type": "markdown"
      },
      "source": [
        "8. Cree una rama nueva y proponga una solución al problema anterior, adjuntando el código corregido y señalando las líneas modificadas. (0.25 pts)"
      ]
    },
    {
      "cell_type": "markdown",
      "metadata": {
        "id": "8heBxDU9iziT",
        "cell_id": "6d963fba3f2d4c17a4b281c7d3f4fb8b",
        "deepnote_cell_type": "markdown"
      },
      "source": [
        "<code>Escriba sus respuestas acá:</code> Se agregan las modificaciones al archivo animales.py, asignando correctamente los ifs, remplazando elif por if donde correspondía."
      ]
    },
    {
      "cell_type": "markdown",
      "metadata": {
        "id": "Av8ebB9jkALO",
        "cell_id": "8a47d4bf8b3045d68e4f29bb449c87f1",
        "deepnote_cell_type": "markdown"
      },
      "source": [
        "## Fin"
      ]
    },
    {
      "cell_type": "markdown",
      "metadata": {
        "id": "aQqZT9fSkBK8",
        "cell_id": "cec4b53942ed489f8f8b63d0e9d4f3e5",
        "deepnote_cell_type": "markdown"
      },
      "source": [
        "Eso ha sido todo por ahora!! Esperamos que este laboratorio les haya gustado y servido para trabajar con `Git`. Recuerden los dias de plazo que tienen disponibles y que ante cualquier duda no duden en contactar al equipo docente.\n",
        "\n",
        "Nos vemos!!\n",
        "\n",
        "<p align=\"center\">\n",
        "  <img src=\"https://media.tenor.com/OYLdav9k9LkAAAAd/kitty-cat.gif\" width=\"350\">\n",
        "</p>\n"
      ]
    }
  ],
  "nbformat": 4,
  "nbformat_minor": 0,
  "metadata": {
    "deepnote_notebook_id": "62cd20d52b9a4810ada15644630456dc",
    "deepnote_execution_queue": [],
    "colab": {
      "provenance": []
    }
  }
}